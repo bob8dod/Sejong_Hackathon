{
  "nbformat": 4,
  "nbformat_minor": 0,
  "metadata": {
    "colab": {
      "name": "연속된 date 검출.ipynb",
      "provenance": [],
      "authorship_tag": "ABX9TyOa5/vmmhuw6G5zbPn5yyj9",
      "include_colab_link": true
    },
    "kernelspec": {
      "name": "python3",
      "display_name": "Python 3"
    },
    "language_info": {
      "name": "python"
    }
  },
  "cells": [
    {
      "cell_type": "markdown",
      "metadata": {
        "id": "view-in-github",
        "colab_type": "text"
      },
      "source": [
        "<a href=\"https://colab.research.google.com/github/bob8dod/Sejong_Hackathon/blob/main/%EC%97%B0%EC%86%8D%EB%90%9C_date_%EA%B2%80%EC%B6%9C.ipynb\" target=\"_parent\"><img src=\"https://colab.research.google.com/assets/colab-badge.svg\" alt=\"Open In Colab\"/></a>"
      ]
    },
    {
      "cell_type": "code",
      "metadata": {
        "id": "-7jzJ_4Ziss5"
      },
      "source": [
        "import pandas as pd"
      ],
      "execution_count": 1,
      "outputs": []
    },
    {
      "cell_type": "code",
      "metadata": {
        "colab": {
          "base_uri": "https://localhost:8080/",
          "height": 423
        },
        "id": "CUHeeBmsiyZQ",
        "outputId": "bedba4bb-4a40-4fb2-b3e3-be9eb18b34d8"
      },
      "source": [
        "data=pd.read_csv('/content/003490.csv')\n",
        "data.columns = ['index','Date']\n",
        "data"
      ],
      "execution_count": 2,
      "outputs": [
        {
          "output_type": "execute_result",
          "data": {
            "text/html": [
              "<div>\n",
              "<style scoped>\n",
              "    .dataframe tbody tr th:only-of-type {\n",
              "        vertical-align: middle;\n",
              "    }\n",
              "\n",
              "    .dataframe tbody tr th {\n",
              "        vertical-align: top;\n",
              "    }\n",
              "\n",
              "    .dataframe thead th {\n",
              "        text-align: right;\n",
              "    }\n",
              "</style>\n",
              "<table border=\"1\" class=\"dataframe\">\n",
              "  <thead>\n",
              "    <tr style=\"text-align: right;\">\n",
              "      <th></th>\n",
              "      <th>index</th>\n",
              "      <th>Date</th>\n",
              "    </tr>\n",
              "  </thead>\n",
              "  <tbody>\n",
              "    <tr>\n",
              "      <th>0</th>\n",
              "      <td>30</td>\n",
              "      <td>2011-10-18</td>\n",
              "    </tr>\n",
              "    <tr>\n",
              "      <th>1</th>\n",
              "      <td>31</td>\n",
              "      <td>2011-10-19</td>\n",
              "    </tr>\n",
              "    <tr>\n",
              "      <th>2</th>\n",
              "      <td>32</td>\n",
              "      <td>2011-10-20</td>\n",
              "    </tr>\n",
              "    <tr>\n",
              "      <th>3</th>\n",
              "      <td>33</td>\n",
              "      <td>2011-10-21</td>\n",
              "    </tr>\n",
              "    <tr>\n",
              "      <th>4</th>\n",
              "      <td>34</td>\n",
              "      <td>2011-10-24</td>\n",
              "    </tr>\n",
              "    <tr>\n",
              "      <th>...</th>\n",
              "      <td>...</td>\n",
              "      <td>...</td>\n",
              "    </tr>\n",
              "    <tr>\n",
              "      <th>205</th>\n",
              "      <td>2269</td>\n",
              "      <td>2020-11-19</td>\n",
              "    </tr>\n",
              "    <tr>\n",
              "      <th>206</th>\n",
              "      <td>2270</td>\n",
              "      <td>2020-11-20</td>\n",
              "    </tr>\n",
              "    <tr>\n",
              "      <th>207</th>\n",
              "      <td>2274</td>\n",
              "      <td>2020-11-26</td>\n",
              "    </tr>\n",
              "    <tr>\n",
              "      <th>208</th>\n",
              "      <td>2275</td>\n",
              "      <td>2020-11-27</td>\n",
              "    </tr>\n",
              "    <tr>\n",
              "      <th>209</th>\n",
              "      <td>2313</td>\n",
              "      <td>2021-01-25</td>\n",
              "    </tr>\n",
              "  </tbody>\n",
              "</table>\n",
              "<p>210 rows × 2 columns</p>\n",
              "</div>"
            ],
            "text/plain": [
              "     index        Date\n",
              "0       30  2011-10-18\n",
              "1       31  2011-10-19\n",
              "2       32  2011-10-20\n",
              "3       33  2011-10-21\n",
              "4       34  2011-10-24\n",
              "..     ...         ...\n",
              "205   2269  2020-11-19\n",
              "206   2270  2020-11-20\n",
              "207   2274  2020-11-26\n",
              "208   2275  2020-11-27\n",
              "209   2313  2021-01-25\n",
              "\n",
              "[210 rows x 2 columns]"
            ]
          },
          "metadata": {},
          "execution_count": 2
        }
      ]
    },
    {
      "cell_type": "code",
      "metadata": {
        "id": "DJCvQjG5i3Ze"
      },
      "source": [
        "def make_continuous_date(path_csv):\n",
        "    data = pd.read_csv(path_csv)\n",
        "    data.columns = ['index', 'Date']\n",
        "    date = []\n",
        "    test = data.loc[1, 'index'] - data.loc[0, 'index']\n",
        "    while test != 1:\n",
        "        data = data.drop([0]).reset_index(drop=True)\n",
        "        test = data.loc[1, 'index'] - data.loc[0, 'index']\n",
        "    for i in range(len(data)):\n",
        "        if i - 1 < 0:\n",
        "            flag = 0\n",
        "            continue\n",
        "        prev_idx = data.loc[i - 1, 'index']\n",
        "        prev_date = data.loc[i - 1, 'Date']\n",
        "        cur_idx = data.loc[i, 'index']\n",
        "        cur_date = data.loc[i, 'Date']\n",
        "        if cur_idx - prev_idx == 1:\n",
        "            if flag == 0:\n",
        "                start = prev_idx\n",
        "                date.append(prev_date)\n",
        "                flag = 1\n",
        "            if i == len(data) - 1:\n",
        "                date.append(cur_date)\n",
        "        else:\n",
        "            if start == 0:\n",
        "                continue\n",
        "            date.append(prev_date)\n",
        "            start = 0\n",
        "            flag = 0\n",
        "    result = []\n",
        "    for i in range(0, len(date), 2):\n",
        "        result.append([date[i], date[i + 1]])\n",
        "\n",
        "    return result"
      ],
      "execution_count": 6,
      "outputs": []
    },
    {
      "cell_type": "code",
      "metadata": {
        "colab": {
          "base_uri": "https://localhost:8080/",
          "height": 36
        },
        "id": "L1OHfR5Q0cIe",
        "outputId": "fec4f109-e2f9-4809-ead2-70e9f651626d"
      },
      "source": [
        "import re\n",
        "\n",
        "def make_date(ll):\n",
        "    text = ''\n",
        "    for l in ll:\n",
        "        text += re.sub('-','.',l)\n",
        "        text += ' '\n",
        "\n",
        "    return text.strip()"
      ],
      "execution_count": 8,
      "outputs": [
        {
          "output_type": "execute_result",
          "data": {
            "application/vnd.google.colaboratory.intrinsic+json": {
              "type": "string"
            },
            "text/plain": [
              "'2021.01.08 2021.01.13'"
            ]
          },
          "metadata": {},
          "execution_count": 8
        }
      ]
    },
    {
      "cell_type": "code",
      "metadata": {
        "colab": {
          "base_uri": "https://localhost:8080/"
        },
        "id": "LbybpPbrcHmI",
        "outputId": "bd70d869-4465-462a-f397-cf5178ba7b4a"
      },
      "source": [
        "list(map(make_date,make_continuous_date('/content/003490.csv')))"
      ],
      "execution_count": 11,
      "outputs": [
        {
          "output_type": "execute_result",
          "data": {
            "text/plain": [
              "['2011.10.18 2011.10.25',\n",
              " '2011.10.28 2011.11.01',\n",
              " '2011.11.23 2011.11.24',\n",
              " '2012.01.30 2012.02.22',\n",
              " '2012.04.26 2012.05.02',\n",
              " '2013.04.17 2013.04.24',\n",
              " '2013.09.23 2013.10.07',\n",
              " '2014.12.09 2014.12.22',\n",
              " '2015.04.07 2015.04.10',\n",
              " '2015.05.07 2015.05.21',\n",
              " '2015.06.02 2015.06.08',\n",
              " '2015.06.16 2015.06.19',\n",
              " '2015.08.24 2015.08.26',\n",
              " '2018.11.19 2018.11.22',\n",
              " '2020.04.14 2020.05.11',\n",
              " '2020.05.21 2020.06.12',\n",
              " '2020.07.17 2020.11.02',\n",
              " '2020.11.10 2020.11.20',\n",
              " '2020.11.26 2020.11.27']"
            ]
          },
          "metadata": {},
          "execution_count": 11
        }
      ]
    }
  ]
}